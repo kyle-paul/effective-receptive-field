{
 "cells": [
  {
   "cell_type": "code",
   "execution_count": 2,
   "metadata": {},
   "outputs": [],
   "source": [
    "import torch\n",
    "import torch.nn as nn\n",
    "import numpy as np\n",
    "from PIL import Image\n",
    "from convolution import Conv2d"
   ]
  },
  {
   "cell_type": "code",
   "execution_count": 3,
   "metadata": {},
   "outputs": [],
   "source": [
    "def effective_receptive_field_torch(x: np.ndarray) -> None:\n",
    "    x = torch.tensor(x).to(torch.float32).requires_grad_(True)\n",
    "    conv = nn.Conv2d(in_channels=3, out_channels=4,\n",
    "                     kernel_size=3, stride=1,\n",
    "                     padding=1, bias=False)\n",
    "    global common_weight\n",
    "    conv.weight = torch.nn.Parameter(torch.tensor(common_weight))\n",
    "    z = conv(x)\n",
    "      \n",
    "    loss_vec = z[:, :, z.size(-2)//2, z.size(-1)//2]\n",
    "    loss = torch.sum(loss_vec)\n",
    "    loss.backward()\n",
    "    \n",
    "    grad_x =  x.grad[0, 0].detach().numpy()\n",
    "    grad_weight = conv.weight.grad[0, 0].detach().numpy()\n",
    "    print(grad_x.shape)\n",
    "    print(grad_weight) \n",
    "    \n",
    "\n",
    "def effective_receptive_field_np(x: np.array) -> None:\n",
    "    conv = Conv2d(in_channels=3, out_channels=4, \n",
    "                  padding=1, stride=1, kernel_size=3)\n",
    "    global common_weight\n",
    "    common_weight = conv.weights\n",
    "    z = conv.forward(x)\n",
    "    \n",
    "    grad_z = np.zeros_like(z)\n",
    "    grad_z[:, :, z.shape[-2]//2, z.shape[-1]//2] = 1\n",
    "    \n",
    "    grad_x, grad_weight = conv.backpropagation(np.float32(grad_z))\n",
    "    print(grad_x.shape)\n",
    "    print(grad_weight[0, 0]) "
   ]
  },
  {
   "cell_type": "code",
   "execution_count": 6,
   "metadata": {},
   "outputs": [
    {
     "name": "stdout",
     "output_type": "stream",
     "text": [
      "(2, 3, 224, 224)\n",
      "[[322. 330. 371.]\n",
      " [300. 316. 353.]\n",
      " [277. 322. 386.]]\n",
      "(224, 224)\n",
      "[[322. 330. 371.]\n",
      " [300. 316. 353.]\n",
      " [277. 322. 386.]]\n"
     ]
    }
   ],
   "source": [
    "image = np.array(Image.open(\"/workspace/samples/cock.jpg\").resize((224, 224)))\n",
    "image2 = np.array(Image.open(\"/workspace/samples/cats.jpg\").resize((224, 224)))\n",
    "\n",
    "image = np.transpose(image, (2, 0, 1))\n",
    "image2 = np.transpose(image2, (2, 0, 1))\n",
    "batch = np.stack([image, image2], axis=0)\n",
    "\n",
    "effective_receptive_field_np(batch)\n",
    "effective_receptive_field_torch(batch)"
   ]
  }
 ],
 "metadata": {
  "kernelspec": {
   "display_name": "Python 3",
   "language": "python",
   "name": "python3"
  },
  "language_info": {
   "codemirror_mode": {
    "name": "ipython",
    "version": 3
   },
   "file_extension": ".py",
   "mimetype": "text/x-python",
   "name": "python",
   "nbconvert_exporter": "python",
   "pygments_lexer": "ipython3",
   "version": "3.10.12"
  }
 },
 "nbformat": 4,
 "nbformat_minor": 2
}
